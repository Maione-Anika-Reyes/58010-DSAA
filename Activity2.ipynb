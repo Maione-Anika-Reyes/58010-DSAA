{
  "nbformat": 4,
  "nbformat_minor": 0,
  "metadata": {
    "colab": {
      "provenance": [],
      "authorship_tag": "ABX9TyNGkxmB9wekNv7nXusOEEwQ",
      "include_colab_link": true
    },
    "kernelspec": {
      "name": "python3",
      "display_name": "Python 3"
    },
    "language_info": {
      "name": "python"
    }
  },
  "cells": [
    {
      "cell_type": "markdown",
      "metadata": {
        "id": "view-in-github",
        "colab_type": "text"
      },
      "source": [
        "<a href=\"https://colab.research.google.com/github/Maione-Anika-Reyes/58010-DSAA/blob/main/Activity2.ipynb\" target=\"_parent\"><img src=\"https://colab.research.google.com/assets/colab-badge.svg\" alt=\"Open In Colab\"/></a>"
      ]
    },
    {
      "cell_type": "code",
      "source": [
        "#Write a Python program to create a singly linked list of prime numbers less than 20. By iterating through the list, display all the prime numbers, the head, and the tail of the list\n",
        "class Node:\n",
        "    def __init__(self, data):\n",
        "        self.data = data\n",
        "        self.next = None\n",
        "\n",
        "def is_prime(num):\n",
        "    if num <= 1:\n",
        "        return False\n",
        "    for i in range(2, int(num**0.5) + 1):\n",
        "        if num % i == 0:\n",
        "            return False\n",
        "    return True\n",
        "\n",
        "def create_prime_linked_list():\n",
        "    head = None\n",
        "    tail = None\n",
        "    for num in range(2, 20):\n",
        "        if is_prime(num):\n",
        "            new_node = Node(num)\n",
        "            if not head:\n",
        "                head = new_node\n",
        "                tail = new_node\n",
        "            else:\n",
        "                tail.next = new_node\n",
        "                tail = new_node\n",
        "    return head\n",
        "\n",
        "def display_linked_list(head):\n",
        "    current = head\n",
        "    while current:\n",
        "        print(current.data, end=\",\")\n",
        "        current = current.next\n",
        "    print()\n",
        "\n",
        "print(\"The list of Prime Numbers: \",)\n",
        "prime_head = create_prime_linked_list()\n",
        "display_linked_list(prime_head)\n",
        "print(\"Head of the list:\", prime_head.data)\n",
        "while prime_head.next:\n",
        "    prime_head = prime_head.next\n",
        "print(\"Tail of the list:\", prime_head.data)\n"
      ],
      "metadata": {
        "colab": {
          "base_uri": "https://localhost:8080/"
        },
        "id": "QkYXhzhXCNwm",
        "outputId": "3314022b-3f83-408a-9134-2e4aa341cfb1"
      },
      "execution_count": 26,
      "outputs": [
        {
          "output_type": "stream",
          "name": "stdout",
          "text": [
            "The list of Prime Numbers: \n",
            "2,3,5,7,11,13,17,19,\n",
            "Head of the list: 2\n",
            "Tail of the list: 19\n"
          ]
        }
      ]
    }
  ]
}