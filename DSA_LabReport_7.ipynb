{
  "nbformat": 4,
  "nbformat_minor": 0,
  "metadata": {
    "colab": {
      "provenance": [],
      "authorship_tag": "ABX9TyO5Tg+Zwc865KjbiZ02i6WV",
      "include_colab_link": true
    },
    "kernelspec": {
      "name": "python3",
      "display_name": "Python 3"
    },
    "language_info": {
      "name": "python"
    }
  },
  "cells": [
    {
      "cell_type": "markdown",
      "metadata": {
        "id": "view-in-github",
        "colab_type": "text"
      },
      "source": [
        "<a href=\"https://colab.research.google.com/github/Maione-Anika-Reyes/58010-DSAA/blob/main/DSA_LabReport_7.ipynb\" target=\"_parent\"><img src=\"https://colab.research.google.com/assets/colab-badge.svg\" alt=\"Open In Colab\"/></a>"
      ]
    },
    {
      "cell_type": "code",
      "execution_count": 4,
      "metadata": {
        "colab": {
          "base_uri": "https://localhost:8080/"
        },
        "id": "C4Df7CABY0EW",
        "outputId": "efc7ab80-3bcf-4e2f-bdc1-7802b5c48af9"
      },
      "outputs": [
        {
          "output_type": "stream",
          "name": "stdout",
          "text": [
            "List of Prime Numbers: \n",
            "2\n",
            "3\n",
            "5\n",
            "7\n",
            "11\n",
            "13\n",
            "17\n",
            "19\n",
            "Head of the list: 2\n",
            "Tail of the list: 19\n"
          ]
        }
      ],
      "source": [
        "class Node:\n",
        "  def  __init__(self, data):\n",
        "    self.data = data\n",
        "    self.tail = None\n",
        "    self.next = None\n",
        "\n",
        "class SinglyLinkedList():\n",
        "  def __init__(self):\n",
        "    self.head = None\n",
        "    self.tail = None\n",
        "\n",
        "\n",
        "  def append(self,NextNum):\n",
        "            newNode = Node(NextNum)\n",
        "            if self.head is None:\n",
        "              self.head = newNode\n",
        "              return\n",
        "            temp = self.head\n",
        "            while(temp.next):\n",
        "              temp  = temp.next\n",
        "            temp.next = newNode\n",
        "            self.tail = newNode\n",
        "\n",
        "  def printList(self):\n",
        "    temp = self.head\n",
        "    while(temp):\n",
        "      print(temp.data)\n",
        "      temp = temp.next\n",
        "\n",
        "    print(\"Head of the list:\", self.head.data)\n",
        "    print(\"Tail of the list:\", self.tail.data)\n",
        "\n",
        "print(\"List of Prime Numbers: \")\n",
        "slist = SinglyLinkedList()\n",
        "x=False\n",
        "for num in range(1,20):\n",
        "  if num>1:\n",
        "    for i in range(2, num):\n",
        "        if (num % i) == 0:\n",
        "          x=True\n",
        "          break\n",
        "        else:\n",
        "          x = False\n",
        "    if x!= True:\n",
        "      slist.append(num)\n",
        "slist.printList()"
      ]
    }
  ]
}