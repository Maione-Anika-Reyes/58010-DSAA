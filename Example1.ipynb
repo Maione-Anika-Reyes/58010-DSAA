{
  "nbformat": 4,
  "nbformat_minor": 0,
  "metadata": {
    "colab": {
      "provenance": [],
      "authorship_tag": "ABX9TyPsN0LwjgEo2UdfVYgcmCmk",
      "include_colab_link": true
    },
    "kernelspec": {
      "name": "python3",
      "display_name": "Python 3"
    },
    "language_info": {
      "name": "python"
    }
  },
  "cells": [
    {
      "cell_type": "markdown",
      "metadata": {
        "id": "view-in-github",
        "colab_type": "text"
      },
      "source": [
        "<a href=\"https://colab.research.google.com/github/Maione-Anika-Reyes/58010-DSAA/blob/main/Example1.ipynb\" target=\"_parent\"><img src=\"https://colab.research.google.com/assets/colab-badge.svg\" alt=\"Open In Colab\"/></a>"
      ]
    },
    {
      "cell_type": "code",
      "source": [
        "def rectangle_area(length,width):\n",
        "  area = length * width\n",
        "  return area\n",
        "\n",
        "  length = float(input(\"Enter the length: \"))\n",
        "  width = float(input(\"Enter the width \"))\n",
        "\n",
        "  area = rectangle_area(length,width)\n",
        "\n",
        "  print(\"The area of the rectangle is:\", area)\n"
      ],
      "metadata": {
        "id": "Jtye7KhVO9Ko"
      },
      "execution_count": 71,
      "outputs": []
    },
    {
      "cell_type": "code",
      "source": [
        "class Rectangle:\n",
        "  length = 5\n",
        "\n",
        "  def __init__ (self, width):\n",
        "    self.width = width\n",
        "\n",
        "  def display(self):\n",
        "    print(\"Area: \", self.area())\n",
        "\n",
        "  def area(self):\n",
        "    return self.length * self.width\n",
        "\n",
        "width = float(input(\"Width of the Rectangle: \"))\n",
        "rectangle = Rectangle(width)\n",
        "rectangle.display()\n"
      ],
      "metadata": {
        "colab": {
          "base_uri": "https://localhost:8080/"
        },
        "id": "sWvHR7kmQAX9",
        "outputId": "d521bcbd-4b4a-4a05-f215-970144c91dec"
      },
      "execution_count": 45,
      "outputs": [
        {
          "output_type": "stream",
          "name": "stdout",
          "text": [
            "Width of the Rectangle: 10\n",
            "Area:  50.0\n"
          ]
        }
      ]
    }
  ]
}