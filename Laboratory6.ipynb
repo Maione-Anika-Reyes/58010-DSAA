{
  "nbformat": 4,
  "nbformat_minor": 0,
  "metadata": {
    "colab": {
      "provenance": [],
      "authorship_tag": "ABX9TyMrHPSd0i38r/81RE/jGcIK",
      "include_colab_link": true
    },
    "kernelspec": {
      "name": "python3",
      "display_name": "Python 3"
    },
    "language_info": {
      "name": "python"
    }
  },
  "cells": [
    {
      "cell_type": "markdown",
      "metadata": {
        "id": "view-in-github",
        "colab_type": "text"
      },
      "source": [
        "<a href=\"https://colab.research.google.com/github/Maione-Anika-Reyes/58010-DSAA/blob/main/Laboratory6.ipynb\" target=\"_parent\"><img src=\"https://colab.research.google.com/assets/colab-badge.svg\" alt=\"Open In Colab\"/></a>"
      ]
    },
    {
      "cell_type": "code",
      "execution_count": 1,
      "metadata": {
        "colab": {
          "base_uri": "https://localhost:8080/"
        },
        "id": "ksooQyv-_9oA",
        "outputId": "84d82502-ac73-4855-a60e-3ed026522695"
      },
      "outputs": [
        {
          "output_type": "stream",
          "name": "stdout",
          "text": [
            "Final state of the list: E > D > B > F > C > A"
          ]
        }
      ],
      "source": [
        "#Given the set of element {a,b,c,d,e, f } stored in a list, show the final state of the list,\n",
        "#assuming we use the move-to-front heuristic and access the elements according to the following sequence: (a,b,c,d,e, f ,a,c, f ,b,d,e).\n",
        "\n",
        "class Node:\n",
        "    def __init__(self, data):\n",
        "        self.data = data\n",
        "        self.next = None\n",
        "\n",
        "class move_to_front_heuristic:\n",
        "    def __init__(self):\n",
        "        self.head = None\n",
        "\n",
        "    def printList(self):\n",
        "        print(\"Final state of the list: \", end=\"\")\n",
        "        temp = self.head\n",
        "        while temp:\n",
        "            print(temp.data, end=\"\")\n",
        "            if temp.next is not None:\n",
        "                print(\" > \", end=\"\")\n",
        "            temp = temp.next\n",
        "\n",
        "    def append(self, data):\n",
        "        new_node = Node(data)\n",
        "\n",
        "        if self.head is None:\n",
        "            self.head = new_node\n",
        "\n",
        "        else:\n",
        "            new_node = Node(data)\n",
        "            temp = self.head\n",
        "            while temp.next:\n",
        "                temp = temp.next\n",
        "            temp.next = new_node\n",
        "            new_node.next = None\n",
        "\n",
        "    def MTF(self, key, elements):\n",
        "        temp = self.head\n",
        "        prev = None\n",
        "\n",
        "        while temp and temp.data != key:\n",
        "            prev = temp\n",
        "            temp = temp.next\n",
        "        x = temp.data\n",
        "\n",
        "        if temp is None:\n",
        "            return\n",
        "\n",
        "        if prev is not None:\n",
        "            prev.next = temp.next\n",
        "            temp.next = self.head\n",
        "            self.head = temp\n",
        "\n",
        "llist = move_to_front_heuristic()\n",
        "elements = ['A', 'B', 'C', 'D', 'E', 'F']\n",
        "for letter in elements:\n",
        "  llist.append(letter)\n",
        "sequence = ['A', 'B', 'C', 'D', 'E', 'F', 'A', 'C', 'F', 'B', 'D', 'E']\n",
        "for L in sequence:\n",
        "  llist.MTF(L, elements)\n",
        "llist.printList()"
      ]
    },
    {
      "cell_type": "code",
      "source": [
        "#Write a Python program to create a doubly linked list, append some items, count the number of items, insert a new item in front, and print in reverse order\n",
        "\n",
        "\n",
        "class Node(object):\n",
        "    def __init__(self, data=None, next=None, prev=None):\n",
        "        self.data = data\n",
        "        self.next = next\n",
        "        self.prev = prev\n",
        "\n",
        "class DoublyLinkedList(object):\n",
        "    def __init__(self):\n",
        "        self.head = None\n",
        "        self.tail = None\n",
        "        self.count = 0\n",
        "\n",
        "    def append_item(self, data):\n",
        "        new_item = Node(data, None, None)\n",
        "        if self.head is None:\n",
        "            self.head = new_item\n",
        "            self.tail = self.head\n",
        "        else:\n",
        "            new_item.prev = self.tail\n",
        "            self.tail.next = new_item\n",
        "            self.tail = new_item\n",
        "\n",
        "        self.count += 1\n",
        "\n",
        "    def prepend_item(self, data):\n",
        "        new_item = Node(data, None, None)\n",
        "        if self.head is None:\n",
        "            self.head = new_item\n",
        "            self.tail = self.head\n",
        "        else:\n",
        "            new_item.next = self.head\n",
        "            self.head.prev = new_item\n",
        "            self.head = new_item\n",
        "\n",
        "        self.count += 1\n",
        "\n",
        "    def print_forward(self):\n",
        "        output = 'Items in the Doubly linked list: ['\n",
        "        for node in self.iter():\n",
        "            output += str(node) + ', '\n",
        "        output = output.rstrip(', ')\n",
        "        output += ']'\n",
        "        print(output)\n",
        "\n",
        "    def print_reverse(self):\n",
        "        output = 'Items in reverse order: ['\n",
        "        for node in reversed(list(self.iter())):\n",
        "            output += str(node) + ', '\n",
        "        output = output.rstrip(', ')\n",
        "        output += ']'\n",
        "        print(output)\n",
        "\n",
        "    def iter(self):\n",
        "        current = self.head\n",
        "        while current:\n",
        "            item_val = current.data\n",
        "            current = current.next\n",
        "            yield item_val\n",
        "\n",
        "    def __len__(self):\n",
        "        return self.count\n",
        "\n",
        "items = DoublyLinkedList()\n",
        "items.append_item('A')\n",
        "items.append_item('B')\n",
        "items.append_item('C')\n",
        "items.append_item('D')\n",
        "items.append_item('E')\n",
        "\n",
        "items.print_forward()\n",
        "print(\"The number of items in the array is:\", len(items))\n",
        "items.prepend_item('AB')\n",
        "items.print_forward()\n",
        "items.print_reverse()"
      ],
      "metadata": {
        "colab": {
          "base_uri": "https://localhost:8080/"
        },
        "id": "HWG-4dodAbSr",
        "outputId": "78c853cb-5061-4ba1-d5ab-ecf1ce78a60b"
      },
      "execution_count": 3,
      "outputs": [
        {
          "output_type": "stream",
          "name": "stdout",
          "text": [
            "Items in the Doubly linked list: [A, B, C, D, E]\n",
            "The number of items in the array is: 5\n",
            "Items in the Doubly linked list: [AB, A, B, C, D, E]\n",
            "Items in reverse order: [E, D, C, B, A, AB]\n"
          ]
        }
      ]
    }
  ]
}