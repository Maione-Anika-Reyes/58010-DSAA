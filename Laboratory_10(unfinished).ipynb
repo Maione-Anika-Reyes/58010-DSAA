{
  "nbformat": 4,
  "nbformat_minor": 0,
  "metadata": {
    "colab": {
      "provenance": [],
      "authorship_tag": "ABX9TyNjZizesqSUb1EHtOU1QWpW",
      "include_colab_link": true
    },
    "kernelspec": {
      "name": "python3",
      "display_name": "Python 3"
    },
    "language_info": {
      "name": "python"
    }
  },
  "cells": [
    {
      "cell_type": "markdown",
      "metadata": {
        "id": "view-in-github",
        "colab_type": "text"
      },
      "source": [
        "<a href=\"https://colab.research.google.com/github/Maione-Anika-Reyes/58010-DSAA/blob/main/Laboratory_10(unfinished).ipynb\" target=\"_parent\"><img src=\"https://colab.research.google.com/assets/colab-badge.svg\" alt=\"Open In Colab\"/></a>"
      ]
    },
    {
      "cell_type": "code",
      "execution_count": 6,
      "metadata": {
        "colab": {
          "base_uri": "https://localhost:8080/"
        },
        "id": "wgzrga6__YSG",
        "outputId": "479d2f93-7585-4766-ac41-a8222157812d"
      },
      "outputs": [
        {
          "output_type": "stream",
          "name": "stdout",
          "text": [
            "[[ 1.  1.  1.]\n",
            " [ 3. -2. -1.]\n",
            " [-1.  4.  2.]]\n",
            "\n",
            " (3, 3)\n",
            "\n",
            " [[ 1.]\n",
            " [ 4.]\n",
            " [-3.]]\n",
            "\n",
            " (3, 1)\n"
          ]
        }
      ],
      "source": [
        "import numpy as np\n",
        "\n",
        "X = np.array([[1,1,1],\n",
        "              [3,-2,-1],\n",
        "              [-1,4,2]], dtype=float)\n",
        "\n",
        "Y = np.array([[1],\n",
        "              [4],\n",
        "              [-3]],dtype=float)\n",
        "\n",
        "print(X)\n",
        "print(\"\\n\",X.shape)\n",
        "print(\"\\n\",Y)\n",
        "print(\"\\n\",Y.shape)"
      ]
    }
  ]
}