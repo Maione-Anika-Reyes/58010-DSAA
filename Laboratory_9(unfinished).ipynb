{
  "nbformat": 4,
  "nbformat_minor": 0,
  "metadata": {
    "colab": {
      "provenance": [],
      "authorship_tag": "ABX9TyNl/1mNM/hLmCP4IV1euUPP",
      "include_colab_link": true
    },
    "kernelspec": {
      "name": "python3",
      "display_name": "Python 3"
    },
    "language_info": {
      "name": "python"
    }
  },
  "cells": [
    {
      "cell_type": "markdown",
      "metadata": {
        "id": "view-in-github",
        "colab_type": "text"
      },
      "source": [
        "<a href=\"https://colab.research.google.com/github/Maione-Anika-Reyes/58010-DSAA/blob/main/Laboratory_9(unfinished).ipynb\" target=\"_parent\"><img src=\"https://colab.research.google.com/assets/colab-badge.svg\" alt=\"Open In Colab\"/></a>"
      ]
    },
    {
      "cell_type": "code",
      "execution_count": 1,
      "metadata": {
        "colab": {
          "base_uri": "https://localhost:8080/"
        },
        "id": "734JceWz8x-X",
        "outputId": "46346c61-3421-4536-93f0-461f89dd96aa"
      },
      "outputs": [
        {
          "output_type": "execute_result",
          "data": {
            "text/plain": [
              "-235.0000000000002"
            ]
          },
          "metadata": {},
          "execution_count": 1
        }
      ],
      "source": [
        "import numpy as np\n",
        "import matplotlib.pyplot as plt\n",
        "%matplotlib inline\n",
        "\n",
        "A = np.array([[1,4],\n",
        "              [0,3]])\n",
        "\n",
        "np.linalg.det(A)\n",
        "\n",
        "## Now other mathematics classes would require you to solve this by hand,\n",
        "## and that is great for practicing your memorization and coordination skills\n",
        "## but in this class we aim for simplicity and speed so we'll use programming\n",
        "## but it's completely fine if you want to try to solve this one by hand.\n",
        "B = np.array([[1,3,5,6],\n",
        "              [0,3,1,3],\n",
        "              [3,1,8,2],\n",
        "              [5,2,6,8]])\n",
        "np.linalg.det(B)\n",
        ""
      ]
    },
    {
      "cell_type": "markdown",
      "source": [
        "Coding Activity 9\n"
      ],
      "metadata": {
        "id": "zfTO3jAJD8CB"
      }
    },
    {
      "cell_type": "code",
      "source": [
        "#Associative Property\n",
        "\n",
        "import numpy as np\n",
        "\n",
        "a = np.array([[0,3,1],\n",
        "              [6,1,2],\n",
        "              [5,7,9]])\n",
        "\n",
        "b = np.array([[1,2,1],\n",
        "              [7,2,0],\n",
        "              [2,3,6]])\n",
        "\n",
        "c = np.array([[1,5,0],\n",
        "              [3,6,9],\n",
        "              [2,4,6]])\n",
        "\n",
        "Assoc1 = np.dot(np.dot(a,b),c)\n",
        "Assoc2 = np.dot(a, np.dot(b,c))\n",
        "print(\"Associative Property: \\n\")\n",
        "print(\"Result 1:\\n\",Assoc1)\n",
        "print(\"Result 2:\\n\",Assoc2)"
      ],
      "metadata": {
        "colab": {
          "base_uri": "https://localhost:8080/"
        },
        "id": "uXVZuS4y-X7Y",
        "outputId": "f950ea07-9713-4c07-a5a8-6f4dcf683469"
      },
      "execution_count": 6,
      "outputs": [
        {
          "output_type": "stream",
          "name": "stdout",
          "text": [
            "Associative Property: \n",
            "\n",
            "Result 1:\n",
            " [[ 62 193 117]\n",
            " [113 277 288]\n",
            " [343 902 813]]\n",
            "Result 2:\n",
            " [[ 62 193 117]\n",
            " [113 277 288]\n",
            " [343 902 813]]\n"
          ]
        }
      ]
    },
    {
      "cell_type": "code",
      "source": [
        "#Distributive Property\n",
        "\n",
        "import numpy as np\n",
        "\n",
        "a = np.array([[0,3,1],\n",
        "              [6,1,2],\n",
        "              [5,7,9]])\n",
        "\n",
        "b = np.array([[1,2,1],\n",
        "              [7,2,0],\n",
        "              [2,3,6]])\n",
        "\n",
        "c = np.array([[1,5,0],\n",
        "              [3,6,9],\n",
        "              [2,4,6]])\n",
        "\n",
        "dstrb1 = np.dot(a,b,+c)\n",
        "dstrb2 = np.dot(a,b) + np.dot(a,c)\n",
        "\n",
        "print(\"Distributive Property\\n\")\n",
        "print(\"Result 1: \\n\",dstrb1)\n",
        "print(\"Result 2: \\n\",dstrb2)\n"
      ],
      "metadata": {
        "colab": {
          "base_uri": "https://localhost:8080/"
        },
        "id": "LVy9sfzsD-1n",
        "outputId": "6a984357-059a-4999-d0bd-62221d184716"
      },
      "execution_count": 7,
      "outputs": [
        {
          "output_type": "stream",
          "name": "stdout",
          "text": [
            "Distributive Property\n",
            "\n",
            "Result 1: \n",
            " [[23  9  6]\n",
            " [17 20 18]\n",
            " [72 51 59]]\n",
            "Result 2: \n",
            " [[ 34  31  39]\n",
            " [ 30  64  39]\n",
            " [116 154 176]]\n"
          ]
        }
      ]
    },
    {
      "cell_type": "code",
      "source": [
        "#Scalar\n",
        "\n",
        "import numpy as np\n",
        "\n",
        "a = np.array([[0,3,1],\n",
        "              [6,1,2],\n",
        "              [5,7,9]])\n",
        "\n",
        "b = np.array([[1,2,1],\n",
        "              [7,2,0],\n",
        "              [2,3,6]])\n",
        "\n",
        "c = 6\n",
        "\n"
      ],
      "metadata": {
        "id": "mbazzQ2kD-vg"
      },
      "execution_count": null,
      "outputs": []
    }
  ]
}