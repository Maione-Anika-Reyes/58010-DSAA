{
  "nbformat": 4,
  "nbformat_minor": 0,
  "metadata": {
    "colab": {
      "provenance": [],
      "authorship_tag": "ABX9TyO5pfF/pb/P1o09pjLwCR9x",
      "include_colab_link": true
    },
    "kernelspec": {
      "name": "python3",
      "display_name": "Python 3"
    },
    "language_info": {
      "name": "python"
    }
  },
  "cells": [
    {
      "cell_type": "markdown",
      "metadata": {
        "id": "view-in-github",
        "colab_type": "text"
      },
      "source": [
        "<a href=\"https://colab.research.google.com/github/Maione-Anika-Reyes/58010-DSAA/blob/main/LinkedList.ipynb\" target=\"_parent\"><img src=\"https://colab.research.google.com/assets/colab-badge.svg\" alt=\"Open In Colab\"/></a>"
      ]
    },
    {
      "cell_type": "code",
      "source": [
        "import array\n",
        "array.typecodes\n",
        "a= array.array('i',[1,2,3,4,5,6])\n",
        "b = array.array('f',[1.5,2.5,3.5,4.5,6.5])\n",
        "a.typecode\n",
        "b.typecode"
      ],
      "metadata": {
        "colab": {
          "base_uri": "https://localhost:8080/",
          "height": 35
        },
        "id": "21OARZ9aS949",
        "outputId": "01386278-509b-4ec1-c0be-412f36649f29"
      },
      "execution_count": 11,
      "outputs": [
        {
          "output_type": "execute_result",
          "data": {
            "text/plain": [
              "'f'"
            ],
            "application/vnd.google.colaboratory.intrinsic+json": {
              "type": "string"
            }
          },
          "metadata": {},
          "execution_count": 11
        }
      ]
    },
    {
      "cell_type": "code",
      "source": [
        "from array import array\n",
        "a = array ('i',[4,5,6,7])\n",
        "a.insert(1,2)\n",
        "a\n",
        "array('i',[4,2,5,6,7])\n",
        "a.insert (-1,0)\n",
        "a\n",
        "a.insert (10,-1)\n",
        "array('i',[4,2,5,6,0,7,-1])"
      ],
      "metadata": {
        "colab": {
          "base_uri": "https://localhost:8080/"
        },
        "id": "iHcO7mrXZmSg",
        "outputId": "82836e89-29b4-43af-9028-c617a8d1dce0"
      },
      "execution_count": 20,
      "outputs": [
        {
          "output_type": "execute_result",
          "data": {
            "text/plain": [
              "array('i', [4, 2, 5, 6, 0, 7, -1])"
            ]
          },
          "metadata": {},
          "execution_count": 20
        }
      ]
    },
    {
      "cell_type": "code",
      "source": [
        "class Node:\n",
        "\n",
        "  def __init__(self,data):\n",
        "    self.data = data\n",
        "    self.next = None\n",
        "\n",
        "class LinkedList:\n",
        "  def __init__(self):\n",
        "    self.head = None"
      ],
      "metadata": {
        "id": "BMSGGrd7Vz9_"
      },
      "execution_count": 15,
      "outputs": []
    },
    {
      "cell_type": "code",
      "source": [
        "from ast import NotIn\n",
        "class Node:\n",
        "  def __init__(self,data):\n",
        "    self.data = data\n",
        "    self.nest = None\n",
        "\n",
        "class LinkedList:\n",
        "  def __init__(self):\n",
        "    self.head = None\n",
        "\n",
        "if __name__=='__main__':\n",
        "  llist = LinkedList()\n",
        "\n",
        "  llist.head = Node (1)\n",
        "  second = Node (2)\n",
        "  third = Node (3)\n",
        "\n",
        "  llist.head.next = second;\n",
        "  second.next = third;"
      ],
      "metadata": {
        "id": "16a1mSgvXnP_"
      },
      "execution_count": 21,
      "outputs": []
    }
  ]
}