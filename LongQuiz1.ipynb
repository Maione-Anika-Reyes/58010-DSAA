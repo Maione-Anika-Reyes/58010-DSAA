{
  "nbformat": 4,
  "nbformat_minor": 0,
  "metadata": {
    "colab": {
      "provenance": [],
      "authorship_tag": "ABX9TyPmwVyLWNZWgSlTB3qc4Y+K",
      "include_colab_link": true
    },
    "kernelspec": {
      "name": "python3",
      "display_name": "Python 3"
    },
    "language_info": {
      "name": "python"
    }
  },
  "cells": [
    {
      "cell_type": "markdown",
      "metadata": {
        "id": "view-in-github",
        "colab_type": "text"
      },
      "source": [
        "<a href=\"https://colab.research.google.com/github/Maione-Anika-Reyes/58010-DSAA/blob/main/LongQuiz1.ipynb\" target=\"_parent\"><img src=\"https://colab.research.google.com/assets/colab-badge.svg\" alt=\"Open In Colab\"/></a>"
      ]
    },
    {
      "cell_type": "code",
      "source": [
        "#Create a python or C++ program that appends each character of your full name and displays each character in reverse order\n",
        "\n",
        "full_name = \"Maione Anika F.Reyes\"\n",
        "print(full_name)\n",
        "\n",
        "name = []\n",
        "\n",
        "for char in full_name:\n",
        "  name.append(char)\n",
        "\n",
        "print(\"Characters in Reversed Order: \")\n",
        "for char in reversed(full_name):\n",
        "  print(char)"
      ],
      "metadata": {
        "colab": {
          "base_uri": "https://localhost:8080/"
        },
        "id": "EY25uNBqCMFW",
        "outputId": "26680682-7a37-43b6-838d-2a4647ac1588"
      },
      "execution_count": 1,
      "outputs": [
        {
          "output_type": "stream",
          "name": "stdout",
          "text": [
            "Maione Anika F.Reyes\n",
            "Characters in Reversed Order: \n",
            "s\n",
            "e\n",
            "y\n",
            "e\n",
            "R\n",
            ".\n",
            "F\n",
            " \n",
            "a\n",
            "k\n",
            "i\n",
            "n\n",
            "A\n",
            " \n",
            "e\n",
            "n\n",
            "o\n",
            "i\n",
            "a\n",
            "M\n"
          ]
        }
      ]
    },
    {
      "cell_type": "code",
      "source": [
        "#Using the set of positive whole numbers from 1 to 10, create a python or C++ program that displays if it is prime or composite.\n",
        "\n",
        "start = 1\n",
        "end = 10\n",
        "print(\"Numbers: 1,2,3,4,5,6,7,8,9,10\")\n",
        "\n",
        "prime = []\n",
        "composite = []\n",
        "\n",
        "for i in range(start,end):\n",
        "        for p in range(2, i):\n",
        "            if (i % p)==0:\n",
        "                composite.append(i)\n",
        "                break\n",
        "        else:\n",
        "            prime.append(i)\n",
        "\n",
        "\n",
        "print(\"Prime Numbers: \",prime)\n",
        "print(\"Composite Numbers: \",composite)"
      ],
      "metadata": {
        "colab": {
          "base_uri": "https://localhost:8080/"
        },
        "id": "JtK_NLcKQ0-d",
        "outputId": "0563d405-19ab-475e-95ef-29117a280b53"
      },
      "execution_count": 11,
      "outputs": [
        {
          "output_type": "stream",
          "name": "stdout",
          "text": [
            "Numbers: 1,2,3,4,5,6,7,8,9,10\n",
            "Prime Numbers:  [1, 2, 3, 5, 7]\n",
            "Composite Numbers:  [4, 6, 8, 9]\n"
          ]
        }
      ]
    }
  ]
}