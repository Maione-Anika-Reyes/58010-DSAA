{
  "nbformat": 4,
  "nbformat_minor": 0,
  "metadata": {
    "colab": {
      "provenance": [],
      "authorship_tag": "ABX9TyOkdeoVrcBa072/5u8+OrtG",
      "include_colab_link": true
    },
    "kernelspec": {
      "name": "python3",
      "display_name": "Python 3"
    },
    "language_info": {
      "name": "python"
    }
  },
  "cells": [
    {
      "cell_type": "markdown",
      "metadata": {
        "id": "view-in-github",
        "colab_type": "text"
      },
      "source": [
        "<a href=\"https://colab.research.google.com/github/Maione-Anika-Reyes/58010-DSAA/blob/main/LongQuiz2.ipynb\" target=\"_parent\"><img src=\"https://colab.research.google.com/assets/colab-badge.svg\" alt=\"Open In Colab\"/></a>"
      ]
    },
    {
      "cell_type": "code",
      "execution_count": 10,
      "metadata": {
        "colab": {
          "base_uri": "https://localhost:8080/"
        },
        "id": "xBjtHJ19INJk",
        "outputId": "2f711767-2db4-4d00-9f40-1c7cd684d4c2"
      },
      "outputs": [
        {
          "output_type": "stream",
          "name": "stdout",
          "text": [
            "Vertex of the Graph: {E,F,H,I,J,K,M,P}\n",
            "Edges of the Graph: [('E', 'I'), ('E', 'K'), ('E', 'J'), ('E', 'M'), ('I', 'F'), ('I', 'H'), ('K', 'F'), ('K', 'H'), ('J', 'F'), ('J', 'H'), ('F', 'P')]\n"
          ]
        }
      ],
      "source": [
        "#Implement the graph using Python dictionaries.\n",
        "#This must display all the vertices and edges of the graph. - 20 points\n",
        "\n",
        "from collections import defaultdict\n",
        "class Graph:\n",
        "    def __init__(graph):\n",
        "        graph.dict = defaultdict(list)\n",
        "    def add(graph,node,adjacent_node):\n",
        "        graph.dict[node].append(adjacent_node)\n",
        "        graph.dict[adjacent_node].append(node)\n",
        "    def edges(graph):\n",
        "        graph_edges = []\n",
        "        for node in graph.dict:\n",
        "            for adjacent_node in graph.dict[node]:\n",
        "                if (adjacent_node, node) not in graph_edges :\n",
        "                    graph_edges.append((node, adjacent_node))\n",
        "        return graph_edges\n",
        "graph = Graph()\n",
        "graph.add('E','I')\n",
        "graph.add('E','K')\n",
        "graph.add('E','J')\n",
        "graph.add('F','I')\n",
        "graph.add('F','K')\n",
        "graph.add('F','J')\n",
        "graph.add('H','I')\n",
        "graph.add('H','J')\n",
        "graph.add('H','K')\n",
        "graph.add('M','E')\n",
        "graph.add('P','F')\n",
        "print(\"Vertex of the Graph: {E,F,H,I,J,K,M,P}\")\n",
        "print(\"Edges of the Graph:\",graph.edges())"
      ]
    }
  ]
}