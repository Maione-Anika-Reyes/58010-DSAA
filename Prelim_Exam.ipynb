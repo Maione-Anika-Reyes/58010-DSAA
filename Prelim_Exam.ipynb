{
  "nbformat": 4,
  "nbformat_minor": 0,
  "metadata": {
    "colab": {
      "provenance": [],
      "authorship_tag": "ABX9TyPNSFsEipLHiB3i/W8nfYlS",
      "include_colab_link": true
    },
    "kernelspec": {
      "name": "python3",
      "display_name": "Python 3"
    },
    "language_info": {
      "name": "python"
    }
  },
  "cells": [
    {
      "cell_type": "markdown",
      "metadata": {
        "id": "view-in-github",
        "colab_type": "text"
      },
      "source": [
        "<a href=\"https://colab.research.google.com/github/Maione-Anika-Reyes/58010-DSAA/blob/main/Prelim_Exam.ipynb\" target=\"_parent\"><img src=\"https://colab.research.google.com/assets/colab-badge.svg\" alt=\"Open In Colab\"/></a>"
      ]
    },
    {
      "cell_type": "code",
      "execution_count": 12,
      "metadata": {
        "colab": {
          "base_uri": "https://localhost:8080/"
        },
        "id": "veJUiBVDNZqY",
        "outputId": "6c0a1307-2c2f-46ab-a31c-fb35bafa8b9c"
      },
      "outputs": [
        {
          "output_type": "stream",
          "name": "stdout",
          "text": [
            "Scores in Ascending Order: [26, 49, 62, 75, 87, 98]\n",
            "\n",
            "Total of the test scores is: 397\n"
          ]
        }
      ],
      "source": [
        "scores = [26, 49, 98, 87, 62, 75]\n",
        "scores.sort()\n",
        "print(\"Scores in Ascending Order:\",scores)\n",
        "\n",
        "\n",
        "x = sum(scores)\n",
        "print(\"\\nTotal of the test scores is:\",x)\n",
        "\n"
      ]
    }
  ]
}