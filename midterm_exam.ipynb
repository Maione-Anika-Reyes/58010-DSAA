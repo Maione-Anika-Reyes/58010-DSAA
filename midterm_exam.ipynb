{
  "nbformat": 4,
  "nbformat_minor": 0,
  "metadata": {
    "colab": {
      "provenance": [],
      "authorship_tag": "ABX9TyOqBHnIYSm8NSYdozhzYOyq",
      "include_colab_link": true
    },
    "kernelspec": {
      "name": "python3",
      "display_name": "Python 3"
    },
    "language_info": {
      "name": "python"
    }
  },
  "cells": [
    {
      "cell_type": "markdown",
      "metadata": {
        "id": "view-in-github",
        "colab_type": "text"
      },
      "source": [
        "<a href=\"https://colab.research.google.com/github/Maione-Anika-Reyes/58010-DSAA/blob/main/midterm_exam.ipynb\" target=\"_parent\"><img src=\"https://colab.research.google.com/assets/colab-badge.svg\" alt=\"Open In Colab\"/></a>"
      ]
    },
    {
      "cell_type": "code",
      "execution_count": 3,
      "metadata": {
        "colab": {
          "base_uri": "https://localhost:8080/"
        },
        "id": "o0-14BzAyLjP",
        "outputId": "95dde6ef-e4f8-4c69-cceb-1ad8c071eb96"
      },
      "outputs": [
        {
          "output_type": "stream",
          "name": "stdout",
          "text": [
            "Vertex of the Graph: {A,B,C,D,E,F,G,I,J,K,L,M,N,O,P}\n",
            "Edges of the Graph: [('A', 'B'), ('B', 'C'), ('B', 'F'), ('B', 'E'), ('C', 'E'), ('C', 'F'), ('C', 'D'), ('C', 'M'), ('C', 'I'), ('F', 'G'), ('F', 'I'), ('E', 'N'), ('D', 'L'), ('D', 'K'), ('M', 'P'), ('M', 'O'), ('M', 'L'), ('M', 'N'), ('I', 'G'), ('I', 'J'), ('I', 'K'), ('L', 'P'), ('K', 'J'), ('N', 'O'), ('O', 'P'), ('G', 'J')]\n"
          ]
        }
      ],
      "source": [
        "from collections import defaultdict\n",
        "class Graph:\n",
        "    def __init__(graph):\n",
        "        graph.dict = defaultdict(list)\n",
        "    def add(graph,node,adjacent_node):\n",
        "        graph.dict[node].append(adjacent_node)\n",
        "        graph.dict[adjacent_node].append(node)\n",
        "    def edges(graph):\n",
        "        graph_edges = []\n",
        "        for node in graph.dict:\n",
        "            for adjacent_node in graph.dict[node]:\n",
        "                if (adjacent_node, node) not in graph_edges :\n",
        "                    graph_edges.append((node, adjacent_node))\n",
        "        return graph_edges\n",
        "\n",
        "graph = Graph()\n",
        "graph.add('A','B')\n",
        "graph.add('B','C')\n",
        "graph.add('B','F')\n",
        "graph.add('B','E')\n",
        "graph.add('C','E')\n",
        "graph.add('C','F')\n",
        "graph.add('C','D')\n",
        "graph.add('C','M')\n",
        "graph.add('C','I')\n",
        "graph.add('D','L')\n",
        "graph.add('D','K')\n",
        "graph.add('E','N')\n",
        "graph.add('N','O')\n",
        "graph.add('O','P')\n",
        "graph.add('P','M')\n",
        "graph.add('O','M')\n",
        "graph.add('P','L')\n",
        "graph.add('M','L')\n",
        "graph.add('N','M')\n",
        "graph.add('F','G')\n",
        "graph.add('F','I')\n",
        "graph.add('I','G')\n",
        "graph.add('I','J')\n",
        "graph.add('G','J')\n",
        "graph.add('J','K')\n",
        "graph.add('I','K')\n",
        "print(\"Vertex of the Graph: {A,B,C,D,E,F,G,I,J,K,L,M,N,O,P}\")\n",
        "print(\"Edges of the Graph:\",graph.edges())"
      ]
    }
  ]
}